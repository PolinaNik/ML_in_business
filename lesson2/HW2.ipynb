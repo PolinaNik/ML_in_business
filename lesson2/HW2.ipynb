{
 "cells": [
  {
   "cell_type": "code",
   "execution_count": 1,
   "metadata": {},
   "outputs": [],
   "source": [
    "import pandas as pd\n",
    "import numpy as np\n",
    "import re\n",
    "import itertools\n",
    "import matplotlib.pyplot as plt\n",
    "from nltk.corpus import stopwords\n",
    "from razdel import tokenize\n",
    "import pymorphy2\n",
    "from gensim.corpora.dictionary import Dictionary\n",
    "from gensim.models import LdaModel, TfidfModel\n",
    "from gensim.test.utils import datapath\n",
    "from sklearn.linear_model import LogisticRegression\n",
    "from sklearn.model_selection import train_test_split\n",
    "from sklearn.metrics import f1_score, roc_auc_score, precision_score, classification_report, precision_recall_curve, confusion_matrix\n",
    "\n",
    "%matplotlib inline\n"
   ]
  },
  {
   "attachments": {},
   "cell_type": "markdown",
   "metadata": {},
   "source": [
    "__2 и 3 задание:__ Модифицировать код функции get_user_embedding таким образом, чтобы считалось не среднее (как в примере np.mean), а медиана. Применить такое преобразование к данным, обучить модель прогнозирования оттока и посчитать метрики качества и сохранить их: roc auc, precision/recall/f_score (для 3 последних - подобрать оптимальный порог с помощью precision_recall_curve, как это делалось на уроке).\n",
    "\n",
    "Повторить п.2, но используя уже не медиану, а max"
   ]
  },
  {
   "attachments": {},
   "cell_type": "markdown",
   "metadata": {},
   "source": [
    "Прежде, чем приступить к выполнению этого задания, выполним обработку новостей."
   ]
  },
  {
   "cell_type": "code",
   "execution_count": 2,
   "metadata": {},
   "outputs": [
    {
     "data": {
      "text/html": [
       "<div>\n",
       "<style scoped>\n",
       "    .dataframe tbody tr th:only-of-type {\n",
       "        vertical-align: middle;\n",
       "    }\n",
       "\n",
       "    .dataframe tbody tr th {\n",
       "        vertical-align: top;\n",
       "    }\n",
       "\n",
       "    .dataframe thead th {\n",
       "        text-align: right;\n",
       "    }\n",
       "</style>\n",
       "<table border=\"1\" class=\"dataframe\">\n",
       "  <thead>\n",
       "    <tr style=\"text-align: right;\">\n",
       "      <th></th>\n",
       "      <th>doc_id</th>\n",
       "      <th>title</th>\n",
       "    </tr>\n",
       "  </thead>\n",
       "  <tbody>\n",
       "    <tr>\n",
       "      <th>0</th>\n",
       "      <td>6</td>\n",
       "      <td>Заместитель председателяnправительства РФnСерг...</td>\n",
       "    </tr>\n",
       "    <tr>\n",
       "      <th>1</th>\n",
       "      <td>4896</td>\n",
       "      <td>Матч 1/16 финала Кубка России по футболу был п...</td>\n",
       "    </tr>\n",
       "    <tr>\n",
       "      <th>2</th>\n",
       "      <td>4897</td>\n",
       "      <td>Форвард «Авангарда» Томаш Заборский прокоммент...</td>\n",
       "    </tr>\n",
       "  </tbody>\n",
       "</table>\n",
       "</div>"
      ],
      "text/plain": [
       "   doc_id                                              title\n",
       "0       6  Заместитель председателяnправительства РФnСерг...\n",
       "1    4896  Матч 1/16 финала Кубка России по футболу был п...\n",
       "2    4897  Форвард «Авангарда» Томаш Заборский прокоммент..."
      ]
     },
     "execution_count": 2,
     "metadata": {},
     "output_type": "execute_result"
    }
   ],
   "source": [
    "news = pd.read_csv(\"materials.csv\")\n",
    "news.head(3)"
   ]
  },
  {
   "cell_type": "code",
   "execution_count": 3,
   "metadata": {},
   "outputs": [],
   "source": [
    "# Стопслова, которые исключаются из обработки\n",
    "stopword_ru = stopwords.words('russian')\n",
    "with open('stopwords.txt') as f:\n",
    "    additional_stopwords = [w.strip() for w in f.readlines() if w]\n",
    "stopword_ru += additional_stopwords"
   ]
  },
  {
   "cell_type": "code",
   "execution_count": 4,
   "metadata": {},
   "outputs": [],
   "source": [
    "morph = pymorphy2.MorphAnalyzer()"
   ]
  },
  {
   "cell_type": "code",
   "execution_count": 5,
   "metadata": {},
   "outputs": [],
   "source": [
    "def clean_text(text):\n",
    "    '''\n",
    "    очистка текста\n",
    "    на выходе очищеный текст\n",
    "    \n",
    "    '''\n",
    "    if not isinstance(text, str):\n",
    "        text = str(text)\n",
    "    \n",
    "    text = text.lower()\n",
    "    text = text.strip('\\n').strip('\\r').strip('\\t')\n",
    "    text = re.sub(\"-\\s\\r\\n\\|-\\s\\r\\n|\\r\\n\", '', str(text))\n",
    "\n",
    "    text = re.sub(\"[0-9]|[-—.,:;_%©«»?*!@#№$^•·&()]|[+=]|[[]|[]]|[/]|\", '', text)\n",
    "    text = re.sub(r\"\\r\\n\\t|\\n|\\\\s|\\r\\t|\\\\n\", ' ', text)\n",
    "    text = re.sub(r'[\\xad]|[\\s+]', ' ', text.strip())\n",
    "    \n",
    "    return text\n",
    "\n",
    "cache = {}\n",
    "\n",
    "def lemmatization(text):\n",
    "    '''\n",
    "    лемматизация\n",
    "        [0] если зашел тип не `str` делаем его `str`\n",
    "        [1] токенизация предложения через razdel\n",
    "        [2] проверка есть ли в начале слова '-'\n",
    "        [3] проверка токена с одного символа\n",
    "        [4] проверка есть ли данное слово в кэше\n",
    "        [5] лемматизация слова\n",
    "        [6] проверка на стоп-слова\n",
    "\n",
    "    на выходе лист отлемматизированых токенов\n",
    "    '''\n",
    "\n",
    "    # [0]\n",
    "    if not isinstance(text, str):\n",
    "        text = str(text)\n",
    "    \n",
    "    # [1]\n",
    "    tokens = list(tokenize(text))\n",
    "    words = [_.text for _ in tokens]\n",
    "\n",
    "    words_lem = []\n",
    "    for w in words:\n",
    "        if w[0] == '-': # [2]\n",
    "            w = w[1:]\n",
    "        if len(w)>1: # [3]\n",
    "            if w in cache: # [4]\n",
    "                words_lem.append(cache[w])\n",
    "            else: # [5]\n",
    "                temp_cach = cache[w] = morph.parse(w)[0].normal_form\n",
    "                words_lem.append(temp_cach)\n",
    "    \n",
    "    words_lem_without_stopwords=[i for i in words_lem if not i in stopword_ru] # [6]\n",
    "    \n",
    "    return words_lem_without_stopwords"
   ]
  },
  {
   "cell_type": "code",
   "execution_count": 6,
   "metadata": {},
   "outputs": [
    {
     "name": "stderr",
     "output_type": "stream",
     "text": [
      "C:\\Users\\Полина\\AppData\\Local\\Temp\\ipykernel_14960\\2098128028.py:14: FutureWarning: Possible nested set at position 39\n",
      "  text = re.sub(\"[0-9]|[-—.,:;_%©«»?*!@#№$^•·&()]|[+=]|[[]|[]]|[/]|\", '', text)\n"
     ]
    }
   ],
   "source": [
    "# Очистка и лемматизация текста\n",
    "news['title'] = news['title'].apply(lambda x: clean_text(x), 1)"
   ]
  },
  {
   "cell_type": "code",
   "execution_count": 7,
   "metadata": {},
   "outputs": [],
   "source": [
    "news['title'] = news['title'].apply(lambda x: lemmatization(x), 1)"
   ]
  },
  {
   "cell_type": "code",
   "execution_count": 39,
   "metadata": {},
   "outputs": [],
   "source": [
    "#сформируем список наших текстов, разбив еще и на пробелы\n",
    "texts = [t for t in news['title'].values]\n",
    "\n",
    "# Create a corpus from a list of texts\n",
    "common_dictionary = Dictionary(texts)\n",
    "common_corpus = [common_dictionary.doc2bow(text) for text in texts]"
   ]
  },
  {
   "cell_type": "code",
   "execution_count": 40,
   "metadata": {},
   "outputs": [
    {
     "name": "stdout",
     "output_type": "stream",
     "text": [
      "CPU times: total: 1min 9s\n",
      "Wall time: 1min 3s\n"
     ]
    }
   ],
   "source": [
    "%%time\n",
    "# Train the model on the corpus.\n",
    "lda = LdaModel(common_corpus, num_topics=25, id2word=common_dictionary)#, passes=10)"
   ]
  },
  {
   "attachments": {},
   "cell_type": "markdown",
   "metadata": {},
   "source": [
    "Напишем функцию, которая будет нам возвращать векторное представление новости\n"
   ]
  },
  {
   "cell_type": "code",
   "execution_count": 41,
   "metadata": {},
   "outputs": [],
   "source": [
    "def get_lda_vector(text):\n",
    "    unseen_doc = common_dictionary.doc2bow(text)\n",
    "    lda_tuple = lda[unseen_doc]\n",
    "    not_null_topics = dict(zip([i[0] for i in lda_tuple], [i[1] for i in lda_tuple]))\n",
    "\n",
    "    output_vector = []\n",
    "    for i in range(25):\n",
    "        if i not in not_null_topics:\n",
    "            output_vector.append(0)\n",
    "        else:\n",
    "            output_vector.append(not_null_topics[i])\n",
    "    return np.array(output_vector)"
   ]
  },
  {
   "cell_type": "code",
   "execution_count": 42,
   "metadata": {},
   "outputs": [
    {
     "data": {
      "text/html": [
       "<div>\n",
       "<style scoped>\n",
       "    .dataframe tbody tr th:only-of-type {\n",
       "        vertical-align: middle;\n",
       "    }\n",
       "\n",
       "    .dataframe tbody tr th {\n",
       "        vertical-align: top;\n",
       "    }\n",
       "\n",
       "    .dataframe thead th {\n",
       "        text-align: right;\n",
       "    }\n",
       "</style>\n",
       "<table border=\"1\" class=\"dataframe\">\n",
       "  <thead>\n",
       "    <tr style=\"text-align: right;\">\n",
       "      <th></th>\n",
       "      <th>doc_id</th>\n",
       "      <th>topic_0</th>\n",
       "      <th>topic_1</th>\n",
       "      <th>topic_2</th>\n",
       "      <th>topic_3</th>\n",
       "      <th>topic_4</th>\n",
       "      <th>topic_5</th>\n",
       "      <th>topic_6</th>\n",
       "      <th>topic_7</th>\n",
       "      <th>topic_8</th>\n",
       "      <th>...</th>\n",
       "      <th>topic_15</th>\n",
       "      <th>topic_16</th>\n",
       "      <th>topic_17</th>\n",
       "      <th>topic_18</th>\n",
       "      <th>topic_19</th>\n",
       "      <th>topic_20</th>\n",
       "      <th>topic_21</th>\n",
       "      <th>topic_22</th>\n",
       "      <th>topic_23</th>\n",
       "      <th>topic_24</th>\n",
       "    </tr>\n",
       "  </thead>\n",
       "  <tbody>\n",
       "    <tr>\n",
       "      <th>0</th>\n",
       "      <td>6</td>\n",
       "      <td>0.0</td>\n",
       "      <td>0.0</td>\n",
       "      <td>0.022973</td>\n",
       "      <td>0.0</td>\n",
       "      <td>0.0</td>\n",
       "      <td>0.00000</td>\n",
       "      <td>0.000000</td>\n",
       "      <td>0.0</td>\n",
       "      <td>0.0</td>\n",
       "      <td>...</td>\n",
       "      <td>0.000000</td>\n",
       "      <td>0.000000</td>\n",
       "      <td>0.000000</td>\n",
       "      <td>0.0</td>\n",
       "      <td>0.0</td>\n",
       "      <td>0.0</td>\n",
       "      <td>0.000000</td>\n",
       "      <td>0.797235</td>\n",
       "      <td>0.000000</td>\n",
       "      <td>0.000000</td>\n",
       "    </tr>\n",
       "    <tr>\n",
       "      <th>1</th>\n",
       "      <td>4896</td>\n",
       "      <td>0.0</td>\n",
       "      <td>0.0</td>\n",
       "      <td>0.051581</td>\n",
       "      <td>0.0</td>\n",
       "      <td>0.0</td>\n",
       "      <td>0.56986</td>\n",
       "      <td>0.000000</td>\n",
       "      <td>0.0</td>\n",
       "      <td>0.0</td>\n",
       "      <td>...</td>\n",
       "      <td>0.000000</td>\n",
       "      <td>0.000000</td>\n",
       "      <td>0.000000</td>\n",
       "      <td>0.0</td>\n",
       "      <td>0.0</td>\n",
       "      <td>0.0</td>\n",
       "      <td>0.000000</td>\n",
       "      <td>0.000000</td>\n",
       "      <td>0.000000</td>\n",
       "      <td>0.000000</td>\n",
       "    </tr>\n",
       "    <tr>\n",
       "      <th>2</th>\n",
       "      <td>4897</td>\n",
       "      <td>0.0</td>\n",
       "      <td>0.0</td>\n",
       "      <td>0.000000</td>\n",
       "      <td>0.0</td>\n",
       "      <td>0.0</td>\n",
       "      <td>0.00000</td>\n",
       "      <td>0.030714</td>\n",
       "      <td>0.0</td>\n",
       "      <td>0.0</td>\n",
       "      <td>...</td>\n",
       "      <td>0.236366</td>\n",
       "      <td>0.000000</td>\n",
       "      <td>0.114211</td>\n",
       "      <td>0.0</td>\n",
       "      <td>0.0</td>\n",
       "      <td>0.0</td>\n",
       "      <td>0.000000</td>\n",
       "      <td>0.000000</td>\n",
       "      <td>0.128398</td>\n",
       "      <td>0.000000</td>\n",
       "    </tr>\n",
       "    <tr>\n",
       "      <th>3</th>\n",
       "      <td>4898</td>\n",
       "      <td>0.0</td>\n",
       "      <td>0.0</td>\n",
       "      <td>0.000000</td>\n",
       "      <td>0.0</td>\n",
       "      <td>0.0</td>\n",
       "      <td>0.00000</td>\n",
       "      <td>0.173547</td>\n",
       "      <td>0.0</td>\n",
       "      <td>0.0</td>\n",
       "      <td>...</td>\n",
       "      <td>0.348599</td>\n",
       "      <td>0.000000</td>\n",
       "      <td>0.000000</td>\n",
       "      <td>0.0</td>\n",
       "      <td>0.0</td>\n",
       "      <td>0.0</td>\n",
       "      <td>0.080619</td>\n",
       "      <td>0.171179</td>\n",
       "      <td>0.000000</td>\n",
       "      <td>0.000000</td>\n",
       "    </tr>\n",
       "    <tr>\n",
       "      <th>4</th>\n",
       "      <td>4899</td>\n",
       "      <td>0.0</td>\n",
       "      <td>0.0</td>\n",
       "      <td>0.000000</td>\n",
       "      <td>0.0</td>\n",
       "      <td>0.0</td>\n",
       "      <td>0.00000</td>\n",
       "      <td>0.000000</td>\n",
       "      <td>0.0</td>\n",
       "      <td>0.0</td>\n",
       "      <td>...</td>\n",
       "      <td>0.000000</td>\n",
       "      <td>0.114728</td>\n",
       "      <td>0.000000</td>\n",
       "      <td>0.0</td>\n",
       "      <td>0.0</td>\n",
       "      <td>0.0</td>\n",
       "      <td>0.000000</td>\n",
       "      <td>0.000000</td>\n",
       "      <td>0.000000</td>\n",
       "      <td>0.351396</td>\n",
       "    </tr>\n",
       "  </tbody>\n",
       "</table>\n",
       "<p>5 rows × 26 columns</p>\n",
       "</div>"
      ],
      "text/plain": [
       "   doc_id  topic_0  topic_1   topic_2  topic_3  topic_4  topic_5   topic_6  \\\n",
       "0       6      0.0      0.0  0.022973      0.0      0.0  0.00000  0.000000   \n",
       "1    4896      0.0      0.0  0.051581      0.0      0.0  0.56986  0.000000   \n",
       "2    4897      0.0      0.0  0.000000      0.0      0.0  0.00000  0.030714   \n",
       "3    4898      0.0      0.0  0.000000      0.0      0.0  0.00000  0.173547   \n",
       "4    4899      0.0      0.0  0.000000      0.0      0.0  0.00000  0.000000   \n",
       "\n",
       "   topic_7  topic_8  ...  topic_15  topic_16  topic_17  topic_18  topic_19  \\\n",
       "0      0.0      0.0  ...  0.000000  0.000000  0.000000       0.0       0.0   \n",
       "1      0.0      0.0  ...  0.000000  0.000000  0.000000       0.0       0.0   \n",
       "2      0.0      0.0  ...  0.236366  0.000000  0.114211       0.0       0.0   \n",
       "3      0.0      0.0  ...  0.348599  0.000000  0.000000       0.0       0.0   \n",
       "4      0.0      0.0  ...  0.000000  0.114728  0.000000       0.0       0.0   \n",
       "\n",
       "   topic_20  topic_21  topic_22  topic_23  topic_24  \n",
       "0       0.0  0.000000  0.797235  0.000000  0.000000  \n",
       "1       0.0  0.000000  0.000000  0.000000  0.000000  \n",
       "2       0.0  0.000000  0.000000  0.128398  0.000000  \n",
       "3       0.0  0.080619  0.171179  0.000000  0.000000  \n",
       "4       0.0  0.000000  0.000000  0.000000  0.351396  \n",
       "\n",
       "[5 rows x 26 columns]"
      ]
     },
     "execution_count": 42,
     "metadata": {},
     "output_type": "execute_result"
    }
   ],
   "source": [
    "topic_matrix = pd.DataFrame([get_lda_vector(text) for text in news['title'].values])\n",
    "topic_matrix.columns = ['topic_{}'.format(i) for i in range(25)]\n",
    "topic_matrix['doc_id'] = news['doc_id'].values\n",
    "topic_matrix = topic_matrix[['doc_id']+['topic_{}'.format(i) for i in range(25)]]\n",
    "topic_matrix.head(5)"
   ]
  },
  {
   "attachments": {},
   "cell_type": "markdown",
   "metadata": {},
   "source": [
    "Следующий шаг - векторные представления пользователей"
   ]
  },
  {
   "cell_type": "code",
   "execution_count": 43,
   "metadata": {},
   "outputs": [
    {
     "data": {
      "text/html": [
       "<div>\n",
       "<style scoped>\n",
       "    .dataframe tbody tr th:only-of-type {\n",
       "        vertical-align: middle;\n",
       "    }\n",
       "\n",
       "    .dataframe tbody tr th {\n",
       "        vertical-align: top;\n",
       "    }\n",
       "\n",
       "    .dataframe thead th {\n",
       "        text-align: right;\n",
       "    }\n",
       "</style>\n",
       "<table border=\"1\" class=\"dataframe\">\n",
       "  <thead>\n",
       "    <tr style=\"text-align: right;\">\n",
       "      <th></th>\n",
       "      <th>uid</th>\n",
       "      <th>articles</th>\n",
       "    </tr>\n",
       "  </thead>\n",
       "  <tbody>\n",
       "    <tr>\n",
       "      <th>0</th>\n",
       "      <td>u105138</td>\n",
       "      <td>[293672, 293328, 293001, 293622, 293126, 1852]</td>\n",
       "    </tr>\n",
       "    <tr>\n",
       "      <th>1</th>\n",
       "      <td>u108690</td>\n",
       "      <td>[3405, 1739, 2972, 1158, 1599, 322665]</td>\n",
       "    </tr>\n",
       "    <tr>\n",
       "      <th>2</th>\n",
       "      <td>u108339</td>\n",
       "      <td>[1845, 2009, 2356, 1424, 2939, 323389]</td>\n",
       "    </tr>\n",
       "  </tbody>\n",
       "</table>\n",
       "</div>"
      ],
      "text/plain": [
       "       uid                                        articles\n",
       "0  u105138  [293672, 293328, 293001, 293622, 293126, 1852]\n",
       "1  u108690          [3405, 1739, 2972, 1158, 1599, 322665]\n",
       "2  u108339          [1845, 2009, 2356, 1424, 2939, 323389]"
      ]
     },
     "execution_count": 43,
     "metadata": {},
     "output_type": "execute_result"
    }
   ],
   "source": [
    "users = pd.read_csv(\"users_articles.csv\")\n",
    "users.head(3)"
   ]
  },
  {
   "cell_type": "code",
   "execution_count": 47,
   "metadata": {},
   "outputs": [],
   "source": [
    "doc_dict = dict(zip(topic_matrix['doc_id'].values, topic_matrix[['topic_{}'.format(i) for i in range(25)]].values))"
   ]
  },
  {
   "cell_type": "code",
   "execution_count": 48,
   "metadata": {},
   "outputs": [],
   "source": [
    "def get_user_embedding(user_articles_list, option):\n",
    "    user_articles_list = eval(user_articles_list)\n",
    "    user_vector = np.array([doc_dict[doc_id] for doc_id in user_articles_list])\n",
    "    if option == 'mean':\n",
    "        user_vector = np.mean(user_vector, 0)\n",
    "        return user_vector\n",
    "    if option == 'median':\n",
    "        user_vector = np.median(user_vector, 0)\n",
    "        return user_vector\n",
    "    if option == 'max':\n",
    "        user_vector = np.max(user_vector, 0)\n",
    "        return user_vector\n",
    "    "
   ]
  },
  {
   "cell_type": "code",
   "execution_count": 49,
   "metadata": {},
   "outputs": [
    {
     "data": {
      "text/html": [
       "<div>\n",
       "<style scoped>\n",
       "    .dataframe tbody tr th:only-of-type {\n",
       "        vertical-align: middle;\n",
       "    }\n",
       "\n",
       "    .dataframe tbody tr th {\n",
       "        vertical-align: top;\n",
       "    }\n",
       "\n",
       "    .dataframe thead th {\n",
       "        text-align: right;\n",
       "    }\n",
       "</style>\n",
       "<table border=\"1\" class=\"dataframe\">\n",
       "  <thead>\n",
       "    <tr style=\"text-align: right;\">\n",
       "      <th></th>\n",
       "      <th>uid</th>\n",
       "      <th>churn</th>\n",
       "    </tr>\n",
       "  </thead>\n",
       "  <tbody>\n",
       "    <tr>\n",
       "      <th>0</th>\n",
       "      <td>u107120</td>\n",
       "      <td>0</td>\n",
       "    </tr>\n",
       "    <tr>\n",
       "      <th>1</th>\n",
       "      <td>u102277</td>\n",
       "      <td>0</td>\n",
       "    </tr>\n",
       "    <tr>\n",
       "      <th>2</th>\n",
       "      <td>u102444</td>\n",
       "      <td>0</td>\n",
       "    </tr>\n",
       "  </tbody>\n",
       "</table>\n",
       "</div>"
      ],
      "text/plain": [
       "       uid  churn\n",
       "0  u107120      0\n",
       "1  u102277      0\n",
       "2  u102444      0"
      ]
     },
     "execution_count": 49,
     "metadata": {},
     "output_type": "execute_result"
    }
   ],
   "source": [
    "target = pd.read_csv(\"users_churn.csv\")\n",
    "target.head(3)"
   ]
  },
  {
   "cell_type": "code",
   "execution_count": 50,
   "metadata": {},
   "outputs": [],
   "source": [
    "class UserProcessor():\n",
    "    def __init__(self, users, target, option) -> None:\n",
    "        self.users = users\n",
    "        self.option = option\n",
    "        self.target = target\n",
    "        self.user_embeddings = None\n",
    "\n",
    "    def fit(self):\n",
    "        self.user_embeddings = pd.DataFrame([i for i in self.users['articles'].apply(lambda x: get_user_embedding(x, self.option), 1)])\n",
    "        self.user_embeddings.columns = ['topic_{}'.format(i) for i in range(25)]\n",
    "        self.user_embeddings['uid'] = self.users['uid'].values\n",
    "        self.user_embeddings = self.user_embeddings[['uid']+['topic_{}'.format(i) for i in range(25)]]\n",
    "    \n",
    "    def transform(self):\n",
    "        X = pd.merge(self.user_embeddings, self.target, 'left')\n",
    "        return X"
   ]
  },
  {
   "cell_type": "code",
   "execution_count": 51,
   "metadata": {},
   "outputs": [],
   "source": [
    "class MLModel():\n",
    "    def __init__(self, users, target, option) -> None:\n",
    "        self.users = users\n",
    "        self.target = target\n",
    "        self.option = option\n",
    "        self.logreg = None\n",
    "        self.X_test = None\n",
    "        self.y_test = None\n",
    "    \n",
    "    def fit(self):\n",
    "        X = UserProcessor(self.users, self.target, self.option)\n",
    "        X.fit()\n",
    "        X = X.transform()\n",
    "        X_train, self.X_test, y_train, self.y_test = train_test_split(X[['topic_{}'.format(i) for i in range(25)]], \n",
    "                                                    X['churn'], random_state=0)\n",
    "        self.logreg = LogisticRegression()\n",
    "        self.logreg.fit(X_train, y_train)\n",
    "\n",
    "    def transform(self):\n",
    "        preds = self.logreg.predict_proba(self.X_test)[:, 1]\n",
    "        return preds\n"
   ]
  },
  {
   "cell_type": "code",
   "execution_count": 52,
   "metadata": {},
   "outputs": [],
   "source": [
    "ML_mean = MLModel(users, target, 'mean')\n",
    "ML_mean.fit()\n",
    "ML_mean_preds = ML_mean.transform()"
   ]
  },
  {
   "cell_type": "code",
   "execution_count": 53,
   "metadata": {},
   "outputs": [],
   "source": [
    "ML_median = MLModel(users, target, 'median')\n",
    "ML_median.fit()\n",
    "ML_median_preds = ML_median.transform()"
   ]
  },
  {
   "cell_type": "code",
   "execution_count": 54,
   "metadata": {},
   "outputs": [],
   "source": [
    "ML_max = MLModel(users, target, 'max')\n",
    "ML_max.fit()\n",
    "ML_max_preds = ML_max.transform()"
   ]
  },
  {
   "attachments": {},
   "cell_type": "markdown",
   "metadata": {},
   "source": [
    "__Задание 5:__ Сформировать на выходе единую таблицу, сравнивающую качество 3 разных метода получения эмбедингов пользователей: mean, median, max, idf_mean по метрикам roc_auc, precision, recall, f_score"
   ]
  },
  {
   "cell_type": "code",
   "execution_count": 55,
   "metadata": {},
   "outputs": [],
   "source": [
    "def accuracy_metrics(y_test, preds):\n",
    "    precision, recall, thresholds = precision_recall_curve(y_test, preds)\n",
    "    fscore = (2 * precision * recall) / (precision + recall)\n",
    "    fscore = np.nan_to_num(fscore, nan=0)\n",
    "    # locate the index of the largest f score\n",
    "    ix = np.argmax(fscore)\n",
    "\n",
    "    return [roc_auc_score(y_test, preds), fscore[ix], precision[ix], recall[ix]]\n",
    "    \n",
    "    # print('Best Threshold=%f, F-Score=%.3f, Precision=%.3f, Recall=%.3f' % (thresholds[ix], \n",
    "    #                                                                     fscore[ix],\n",
    "    #                                                                     precision[ix],\n",
    "    #                                                                     recall[ix]))\n",
    "    # print(f'ROC_AUC score = {roc_auc_score(y_test, preds)}')"
   ]
  },
  {
   "cell_type": "code",
   "execution_count": 56,
   "metadata": {},
   "outputs": [
    {
     "data": {
      "text/html": [
       "<div>\n",
       "<style scoped>\n",
       "    .dataframe tbody tr th:only-of-type {\n",
       "        vertical-align: middle;\n",
       "    }\n",
       "\n",
       "    .dataframe tbody tr th {\n",
       "        vertical-align: top;\n",
       "    }\n",
       "\n",
       "    .dataframe thead th {\n",
       "        text-align: right;\n",
       "    }\n",
       "</style>\n",
       "<table border=\"1\" class=\"dataframe\">\n",
       "  <thead>\n",
       "    <tr style=\"text-align: right;\">\n",
       "      <th></th>\n",
       "      <th>mean</th>\n",
       "      <th>median</th>\n",
       "      <th>max</th>\n",
       "    </tr>\n",
       "  </thead>\n",
       "  <tbody>\n",
       "    <tr>\n",
       "      <th>roc_auc score</th>\n",
       "      <td>0.928784</td>\n",
       "      <td>0.959900</td>\n",
       "      <td>0.958958</td>\n",
       "    </tr>\n",
       "    <tr>\n",
       "      <th>F-score</th>\n",
       "      <td>0.628571</td>\n",
       "      <td>0.707865</td>\n",
       "      <td>0.720682</td>\n",
       "    </tr>\n",
       "    <tr>\n",
       "      <th>Precision</th>\n",
       "      <td>0.558730</td>\n",
       "      <td>0.653979</td>\n",
       "      <td>0.754464</td>\n",
       "    </tr>\n",
       "    <tr>\n",
       "      <th>Recall</th>\n",
       "      <td>0.718367</td>\n",
       "      <td>0.771429</td>\n",
       "      <td>0.689796</td>\n",
       "    </tr>\n",
       "  </tbody>\n",
       "</table>\n",
       "</div>"
      ],
      "text/plain": [
       "                   mean    median       max\n",
       "roc_auc score  0.928784  0.959900  0.958958\n",
       "F-score        0.628571  0.707865  0.720682\n",
       "Precision      0.558730  0.653979  0.754464\n",
       "Recall         0.718367  0.771429  0.689796"
      ]
     },
     "execution_count": 56,
     "metadata": {},
     "output_type": "execute_result"
    }
   ],
   "source": [
    "table = {'mean': accuracy_metrics(ML_mean.y_test, ML_mean_preds),\n",
    "        'median': accuracy_metrics(ML_median.y_test, ML_median_preds),\n",
    "        'max': accuracy_metrics(ML_max.y_test, ML_max_preds)}\n",
    "\n",
    "table = pd.DataFrame(data=table, index=['roc_auc score', 'F-score', 'Precision', 'Recall'])\n",
    "table"
   ]
  },
  {
   "attachments": {},
   "cell_type": "markdown",
   "metadata": {},
   "source": [
    "__Задание 6:__ Сделать самостоятельные выводы и предположения о том, почему тот или ной способ оказался эффективнее остальных"
   ]
  },
  {
   "attachments": {},
   "cell_type": "markdown",
   "metadata": {},
   "source": [
    "Вывод: наилучший результат в той модели, где в рассчете user_embedding используется median и max"
   ]
  },
  {
   "attachments": {},
   "cell_type": "markdown",
   "metadata": {},
   "source": [
    "__Задание 4:__ (опциональное, если очень хочется) Воспользовавшись полученными знаниями из п.1, повторить пункт 2, но уже взвешивая новости по tfidf (подсказка: нужно получить веса-коэффициенты для каждого документа. Не все документы одинаково информативны и несут какой-то положительный сигнал). Подсказка 2 - нужен именно idf, как вес"
   ]
  },
  {
   "attachments": {},
   "cell_type": "markdown",
   "metadata": {},
   "source": [
    "Считаем tf-idf значения для каждого слова в каждом документе."
   ]
  },
  {
   "cell_type": "code",
   "execution_count": 57,
   "metadata": {},
   "outputs": [],
   "source": [
    "tfidf_model = TfidfModel(common_corpus)\n",
    "common_corpus_tfidf = [tfidf_model[doc] for doc in common_corpus]"
   ]
  },
  {
   "attachments": {},
   "cell_type": "markdown",
   "metadata": {},
   "source": [
    "Тренируем LDA на tf-idf корпусе."
   ]
  },
  {
   "cell_type": "code",
   "execution_count": 58,
   "metadata": {},
   "outputs": [],
   "source": [
    "lda_tfidf = LdaModel(common_corpus_tfidf, num_topics=25, id2word=common_dictionary)#, passes=10)"
   ]
  },
  {
   "cell_type": "markdown",
   "metadata": {},
   "source": [
    "Получаем эмбеддинги документов по темам, с учетом подсчета для нового документа значений tf-idf."
   ]
  },
  {
   "cell_type": "code",
   "execution_count": 59,
   "metadata": {},
   "outputs": [],
   "source": [
    "def get_lda_vector_tfidf(text):\n",
    "    unseen_doc = tfidf_model[common_dictionary.doc2bow(text)]\n",
    "    lda_tuple = lda_tfidf[unseen_doc]\n",
    "    not_null_topics = dict(zip([i[0] for i in lda_tuple], [i[1] for i in lda_tuple]))\n",
    "\n",
    "    output_vector = []\n",
    "    for i in range(25):\n",
    "        if i not in not_null_topics:\n",
    "            output_vector.append(0)\n",
    "        else:\n",
    "            output_vector.append(not_null_topics[i])\n",
    "    return np.array(output_vector)"
   ]
  },
  {
   "cell_type": "code",
   "execution_count": 60,
   "metadata": {},
   "outputs": [],
   "source": [
    "topic_matrix_tfidf = pd.DataFrame([get_lda_vector_tfidf(text) for text in news['title'].values])\n",
    "topic_matrix_tfidf.columns = ['topic_{}'.format(i) for i in range(25)]\n",
    "topic_matrix_tfidf['doc_id'] = news['doc_id'].values\n",
    "topic_matrix_tfidf = topic_matrix_tfidf[['doc_id']+['topic_{}'.format(i) for i in range(25)]]\n",
    "doc_dict = dict(zip(topic_matrix_tfidf['doc_id'].values, topic_matrix_tfidf[['topic_{}'.format(i) for i in range(25)]].values))"
   ]
  },
  {
   "cell_type": "code",
   "execution_count": 61,
   "metadata": {},
   "outputs": [],
   "source": [
    "ML_tfidf_mean = MLModel(users, target, 'mean')\n",
    "ML_tfidf_mean.fit()\n",
    "ML_tfidf_mean_preds = ML_tfidf_mean.transform()"
   ]
  },
  {
   "cell_type": "code",
   "execution_count": 62,
   "metadata": {},
   "outputs": [],
   "source": [
    "ML_tfidf_median = MLModel(users, target, 'median')\n",
    "ML_tfidf_median.fit()\n",
    "ML_tfidf_median_preds = ML_tfidf_median.transform()"
   ]
  },
  {
   "cell_type": "code",
   "execution_count": 63,
   "metadata": {},
   "outputs": [],
   "source": [
    "ML_tfidf_max = MLModel(users, target, 'max')\n",
    "ML_tfidf_max.fit()\n",
    "ML_tfidf_max_preds = ML_tfidf_max.transform()"
   ]
  },
  {
   "cell_type": "code",
   "execution_count": 64,
   "metadata": {},
   "outputs": [
    {
     "name": "stderr",
     "output_type": "stream",
     "text": [
      "C:\\Users\\Полина\\AppData\\Local\\Temp\\ipykernel_14960\\1677765014.py:3: RuntimeWarning: invalid value encountered in divide\n",
      "  fscore = (2 * precision * recall) / (precision + recall)\n",
      "C:\\Users\\Полина\\AppData\\Local\\Temp\\ipykernel_14960\\1677765014.py:3: RuntimeWarning: invalid value encountered in divide\n",
      "  fscore = (2 * precision * recall) / (precision + recall)\n"
     ]
    },
    {
     "data": {
      "text/html": [
       "<div>\n",
       "<style scoped>\n",
       "    .dataframe tbody tr th:only-of-type {\n",
       "        vertical-align: middle;\n",
       "    }\n",
       "\n",
       "    .dataframe tbody tr th {\n",
       "        vertical-align: top;\n",
       "    }\n",
       "\n",
       "    .dataframe thead th {\n",
       "        text-align: right;\n",
       "    }\n",
       "</style>\n",
       "<table border=\"1\" class=\"dataframe\">\n",
       "  <thead>\n",
       "    <tr style=\"text-align: right;\">\n",
       "      <th></th>\n",
       "      <th>mean</th>\n",
       "      <th>median</th>\n",
       "      <th>max</th>\n",
       "      <th>tfidf_mean</th>\n",
       "      <th>tfidf_median</th>\n",
       "      <th>tfidf_max</th>\n",
       "    </tr>\n",
       "  </thead>\n",
       "  <tbody>\n",
       "    <tr>\n",
       "      <th>roc_auc score</th>\n",
       "      <td>0.928784</td>\n",
       "      <td>0.959900</td>\n",
       "      <td>0.958958</td>\n",
       "      <td>0.901324</td>\n",
       "      <td>0.904613</td>\n",
       "      <td>0.873988</td>\n",
       "    </tr>\n",
       "    <tr>\n",
       "      <th>F-score</th>\n",
       "      <td>0.628571</td>\n",
       "      <td>0.707865</td>\n",
       "      <td>0.720682</td>\n",
       "      <td>0.551630</td>\n",
       "      <td>0.574871</td>\n",
       "      <td>0.556000</td>\n",
       "    </tr>\n",
       "    <tr>\n",
       "      <th>Precision</th>\n",
       "      <td>0.558730</td>\n",
       "      <td>0.653979</td>\n",
       "      <td>0.754464</td>\n",
       "      <td>0.413442</td>\n",
       "      <td>0.497024</td>\n",
       "      <td>0.545098</td>\n",
       "    </tr>\n",
       "    <tr>\n",
       "      <th>Recall</th>\n",
       "      <td>0.718367</td>\n",
       "      <td>0.771429</td>\n",
       "      <td>0.689796</td>\n",
       "      <td>0.828571</td>\n",
       "      <td>0.681633</td>\n",
       "      <td>0.567347</td>\n",
       "    </tr>\n",
       "  </tbody>\n",
       "</table>\n",
       "</div>"
      ],
      "text/plain": [
       "                   mean    median       max  tfidf_mean  tfidf_median  \\\n",
       "roc_auc score  0.928784  0.959900  0.958958    0.901324      0.904613   \n",
       "F-score        0.628571  0.707865  0.720682    0.551630      0.574871   \n",
       "Precision      0.558730  0.653979  0.754464    0.413442      0.497024   \n",
       "Recall         0.718367  0.771429  0.689796    0.828571      0.681633   \n",
       "\n",
       "               tfidf_max  \n",
       "roc_auc score   0.873988  \n",
       "F-score         0.556000  \n",
       "Precision       0.545098  \n",
       "Recall          0.567347  "
      ]
     },
     "execution_count": 64,
     "metadata": {},
     "output_type": "execute_result"
    }
   ],
   "source": [
    "table = {'mean': accuracy_metrics(ML_mean.y_test, ML_mean_preds),\n",
    "        'median': accuracy_metrics(ML_median.y_test, ML_median_preds),\n",
    "        'max': accuracy_metrics(ML_max.y_test, ML_max_preds),\n",
    "        'tfidf_mean': accuracy_metrics(ML_tfidf_mean.y_test, ML_tfidf_mean_preds),\n",
    "        'tfidf_median': accuracy_metrics(ML_tfidf_median.y_test, ML_tfidf_median_preds),\n",
    "        'tfidf_max': accuracy_metrics(ML_tfidf_max.y_test, ML_tfidf_max_preds)}\n",
    "\n",
    "table = pd.DataFrame(data=table, index=['roc_auc score', 'F-score', 'Precision', 'Recall'])\n",
    "table"
   ]
  },
  {
   "attachments": {},
   "cell_type": "markdown",
   "metadata": {},
   "source": [
    "Tfidf модель дала плохие результаты, попробуем немного другой алгоритм"
   ]
  },
  {
   "cell_type": "code",
   "execution_count": 65,
   "metadata": {},
   "outputs": [],
   "source": [
    "from sklearn.feature_extraction.text import TfidfVectorizer"
   ]
  },
  {
   "cell_type": "code",
   "execution_count": 66,
   "metadata": {},
   "outputs": [
    {
     "data": {
      "text/plain": [
       "0       [293672, 293328, 293001, 293622, 293126, 1852]\n",
       "1               [3405, 1739, 2972, 1158, 1599, 322665]\n",
       "2               [1845, 2009, 2356, 1424, 2939, 323389]\n",
       "3               [5933, 6186, 5055, 6977, 5206, 488389]\n",
       "4                [707, 1144, 2532, 2928, 3133, 324592]\n",
       "                             ...                      \n",
       "7995     [323918, 323362, 323704, 323452, 324291, 251]\n",
       "7996            [5532, 5860, 7755, 7140, 5182, 488337]\n",
       "7997    [322811, 323898, 321858, 323345, 323491, 2193]\n",
       "7998            [5436, 6092, 6891, 7045, 5320, 487379]\n",
       "7999    [294096, 293759, 294178, 293544, 293921, 2909]\n",
       "Name: articles, Length: 8000, dtype: object"
      ]
     },
     "execution_count": 66,
     "metadata": {},
     "output_type": "execute_result"
    }
   ],
   "source": [
    "users['articles']"
   ]
  },
  {
   "cell_type": "code",
   "execution_count": 67,
   "metadata": {},
   "outputs": [],
   "source": [
    "N_features=100\n",
    "tf = TfidfVectorizer(stop_words=stopword_ru, max_features=N_features)"
   ]
  },
  {
   "cell_type": "code",
   "execution_count": 82,
   "metadata": {},
   "outputs": [
    {
     "data": {
      "text/plain": [
       "0        заместитель председатель правительство рф серг...\n",
       "1        матч финал кубок россия футбол приостановить с...\n",
       "2        форвард авангард томаш заборский прокомментиро...\n",
       "3        главный тренер кубань юрий красножанин прокомм...\n",
       "4        решение попечительский совет владивостокский с...\n",
       "                               ...                        \n",
       "26995    учёный токийский университет морской наука тех...\n",
       "26996    глава кафедра отечественный история xx век ист...\n",
       "26997    американский учёный уточнить возраст расположи...\n",
       "26998    последний год тропический углеродный цикл стат...\n",
       "26999    жить примерно тыс год назад территория совреме...\n",
       "Name: title_str, Length: 27000, dtype: object"
      ]
     },
     "execution_count": 82,
     "metadata": {},
     "output_type": "execute_result"
    }
   ],
   "source": [
    "news['title_str'] = news['title'].apply(lambda x: ' '.join(x))\n",
    "news['title_str']"
   ]
  },
  {
   "cell_type": "code",
   "execution_count": 83,
   "metadata": {},
   "outputs": [
    {
     "data": {
      "text/plain": [
       "<27000x100 sparse matrix of type '<class 'numpy.float64'>'\n",
       "\twith 651766 stored elements in Compressed Sparse Row format>"
      ]
     },
     "execution_count": 83,
     "metadata": {},
     "output_type": "execute_result"
    }
   ],
   "source": [
    "tfidf_titles = tf.fit_transform(news['title_str'])\n",
    "tfidf_titles"
   ]
  },
  {
   "cell_type": "code",
   "execution_count": 84,
   "metadata": {},
   "outputs": [
    {
     "data": {
      "text/html": [
       "<div>\n",
       "<style scoped>\n",
       "    .dataframe tbody tr th:only-of-type {\n",
       "        vertical-align: middle;\n",
       "    }\n",
       "\n",
       "    .dataframe tbody tr th {\n",
       "        vertical-align: top;\n",
       "    }\n",
       "\n",
       "    .dataframe thead th {\n",
       "        text-align: right;\n",
       "    }\n",
       "</style>\n",
       "<table border=\"1\" class=\"dataframe\">\n",
       "  <thead>\n",
       "    <tr style=\"text-align: right;\">\n",
       "      <th></th>\n",
       "      <th>word_0</th>\n",
       "      <th>word_1</th>\n",
       "      <th>word_2</th>\n",
       "      <th>word_3</th>\n",
       "      <th>word_4</th>\n",
       "      <th>word_5</th>\n",
       "      <th>word_6</th>\n",
       "      <th>word_7</th>\n",
       "      <th>word_8</th>\n",
       "      <th>word_9</th>\n",
       "      <th>...</th>\n",
       "      <th>word_90</th>\n",
       "      <th>word_91</th>\n",
       "      <th>word_92</th>\n",
       "      <th>word_93</th>\n",
       "      <th>word_94</th>\n",
       "      <th>word_95</th>\n",
       "      <th>word_96</th>\n",
       "      <th>word_97</th>\n",
       "      <th>word_98</th>\n",
       "      <th>word_99</th>\n",
       "    </tr>\n",
       "  </thead>\n",
       "  <tbody>\n",
       "    <tr>\n",
       "      <th>0</th>\n",
       "      <td>0.544075</td>\n",
       "      <td>0.000000</td>\n",
       "      <td>0.0</td>\n",
       "      <td>0.246495</td>\n",
       "      <td>0.0</td>\n",
       "      <td>0.0</td>\n",
       "      <td>0.0</td>\n",
       "      <td>0.171238</td>\n",
       "      <td>0.0</td>\n",
       "      <td>0.0</td>\n",
       "      <td>...</td>\n",
       "      <td>0.0</td>\n",
       "      <td>0.0</td>\n",
       "      <td>0.0</td>\n",
       "      <td>0.0</td>\n",
       "      <td>0.0</td>\n",
       "      <td>0.0</td>\n",
       "      <td>0.0</td>\n",
       "      <td>0.0</td>\n",
       "      <td>0.086973</td>\n",
       "      <td>0.0</td>\n",
       "    </tr>\n",
       "    <tr>\n",
       "      <th>1</th>\n",
       "      <td>0.000000</td>\n",
       "      <td>0.686993</td>\n",
       "      <td>0.0</td>\n",
       "      <td>0.000000</td>\n",
       "      <td>0.0</td>\n",
       "      <td>0.0</td>\n",
       "      <td>0.0</td>\n",
       "      <td>0.000000</td>\n",
       "      <td>0.0</td>\n",
       "      <td>0.0</td>\n",
       "      <td>...</td>\n",
       "      <td>0.0</td>\n",
       "      <td>0.0</td>\n",
       "      <td>0.0</td>\n",
       "      <td>0.0</td>\n",
       "      <td>0.0</td>\n",
       "      <td>0.0</td>\n",
       "      <td>0.0</td>\n",
       "      <td>0.0</td>\n",
       "      <td>0.171530</td>\n",
       "      <td>0.0</td>\n",
       "    </tr>\n",
       "  </tbody>\n",
       "</table>\n",
       "<p>2 rows × 100 columns</p>\n",
       "</div>"
      ],
      "text/plain": [
       "     word_0    word_1  word_2    word_3  word_4  word_5  word_6    word_7  \\\n",
       "0  0.544075  0.000000     0.0  0.246495     0.0     0.0     0.0  0.171238   \n",
       "1  0.000000  0.686993     0.0  0.000000     0.0     0.0     0.0  0.000000   \n",
       "\n",
       "   word_8  word_9  ...  word_90  word_91  word_92  word_93  word_94  word_95  \\\n",
       "0     0.0     0.0  ...      0.0      0.0      0.0      0.0      0.0      0.0   \n",
       "1     0.0     0.0  ...      0.0      0.0      0.0      0.0      0.0      0.0   \n",
       "\n",
       "   word_96  word_97   word_98  word_99  \n",
       "0      0.0      0.0  0.086973      0.0  \n",
       "1      0.0      0.0  0.171530      0.0  \n",
       "\n",
       "[2 rows x 100 columns]"
      ]
     },
     "execution_count": 84,
     "metadata": {},
     "output_type": "execute_result"
    }
   ],
   "source": [
    "tfidf_matrix = pd.DataFrame.sparse.from_spmatrix(tfidf_titles, columns=sorted(tf.vocabulary_))\n",
    "tfidf_matrix.columns = ['word_{}'.format(i) for i in range(N_features)]  # changing names of columns from real words \n",
    "                                                                         # to word_0, word_1, word_2...\n",
    "tfidf_matrix.head(2)"
   ]
  },
  {
   "cell_type": "code",
   "execution_count": 85,
   "metadata": {},
   "outputs": [
    {
     "data": {
      "text/html": [
       "<div>\n",
       "<style scoped>\n",
       "    .dataframe tbody tr th:only-of-type {\n",
       "        vertical-align: middle;\n",
       "    }\n",
       "\n",
       "    .dataframe tbody tr th {\n",
       "        vertical-align: top;\n",
       "    }\n",
       "\n",
       "    .dataframe thead th {\n",
       "        text-align: right;\n",
       "    }\n",
       "</style>\n",
       "<table border=\"1\" class=\"dataframe\">\n",
       "  <thead>\n",
       "    <tr style=\"text-align: right;\">\n",
       "      <th></th>\n",
       "      <th>word_0</th>\n",
       "      <th>word_1</th>\n",
       "      <th>word_2</th>\n",
       "      <th>word_3</th>\n",
       "      <th>word_4</th>\n",
       "      <th>word_5</th>\n",
       "      <th>word_6</th>\n",
       "      <th>word_7</th>\n",
       "      <th>word_8</th>\n",
       "      <th>word_9</th>\n",
       "      <th>...</th>\n",
       "      <th>word_91</th>\n",
       "      <th>word_92</th>\n",
       "      <th>word_93</th>\n",
       "      <th>word_94</th>\n",
       "      <th>word_95</th>\n",
       "      <th>word_96</th>\n",
       "      <th>word_97</th>\n",
       "      <th>word_98</th>\n",
       "      <th>word_99</th>\n",
       "      <th>doc_id</th>\n",
       "    </tr>\n",
       "  </thead>\n",
       "  <tbody>\n",
       "    <tr>\n",
       "      <th>0</th>\n",
       "      <td>0.544075</td>\n",
       "      <td>0.000000</td>\n",
       "      <td>0.0</td>\n",
       "      <td>0.246495</td>\n",
       "      <td>0.0</td>\n",
       "      <td>0.0</td>\n",
       "      <td>0.0</td>\n",
       "      <td>0.171238</td>\n",
       "      <td>0.0</td>\n",
       "      <td>0.0</td>\n",
       "      <td>...</td>\n",
       "      <td>0.0</td>\n",
       "      <td>0.0</td>\n",
       "      <td>0.0</td>\n",
       "      <td>0.0</td>\n",
       "      <td>0.0</td>\n",
       "      <td>0.0</td>\n",
       "      <td>0.0</td>\n",
       "      <td>0.086973</td>\n",
       "      <td>0.0</td>\n",
       "      <td>6</td>\n",
       "    </tr>\n",
       "    <tr>\n",
       "      <th>1</th>\n",
       "      <td>0.000000</td>\n",
       "      <td>0.686993</td>\n",
       "      <td>0.0</td>\n",
       "      <td>0.000000</td>\n",
       "      <td>0.0</td>\n",
       "      <td>0.0</td>\n",
       "      <td>0.0</td>\n",
       "      <td>0.000000</td>\n",
       "      <td>0.0</td>\n",
       "      <td>0.0</td>\n",
       "      <td>...</td>\n",
       "      <td>0.0</td>\n",
       "      <td>0.0</td>\n",
       "      <td>0.0</td>\n",
       "      <td>0.0</td>\n",
       "      <td>0.0</td>\n",
       "      <td>0.0</td>\n",
       "      <td>0.0</td>\n",
       "      <td>0.171530</td>\n",
       "      <td>0.0</td>\n",
       "      <td>4896</td>\n",
       "    </tr>\n",
       "  </tbody>\n",
       "</table>\n",
       "<p>2 rows × 101 columns</p>\n",
       "</div>"
      ],
      "text/plain": [
       "     word_0    word_1  word_2    word_3  word_4  word_5  word_6    word_7  \\\n",
       "0  0.544075  0.000000     0.0  0.246495     0.0     0.0     0.0  0.171238   \n",
       "1  0.000000  0.686993     0.0  0.000000     0.0     0.0     0.0  0.000000   \n",
       "\n",
       "   word_8  word_9  ...  word_91  word_92  word_93  word_94  word_95  word_96  \\\n",
       "0     0.0     0.0  ...      0.0      0.0      0.0      0.0      0.0      0.0   \n",
       "1     0.0     0.0  ...      0.0      0.0      0.0      0.0      0.0      0.0   \n",
       "\n",
       "   word_97   word_98  word_99  doc_id  \n",
       "0      0.0  0.086973      0.0       6  \n",
       "1      0.0  0.171530      0.0    4896  \n",
       "\n",
       "[2 rows x 101 columns]"
      ]
     },
     "execution_count": 85,
     "metadata": {},
     "output_type": "execute_result"
    }
   ],
   "source": [
    "tfidf_matrix['doc_id'] = news['doc_id'].values\n",
    "tfidf_matrix.head(2)"
   ]
  },
  {
   "cell_type": "code",
   "execution_count": 86,
   "metadata": {},
   "outputs": [],
   "source": [
    "doc_dict = dict(zip(tfidf_matrix['doc_id'].values, tfidf_matrix[['word_{}'.format(i) for i in range(N_features)]].values))"
   ]
  },
  {
   "cell_type": "code",
   "execution_count": 88,
   "metadata": {},
   "outputs": [],
   "source": [
    "class UserProcessor2(UserProcessor):\n",
    "    def __init__(self, users, target, option) -> None:\n",
    "        super().__init__(users, target, option)\n",
    "    def fit(self):\n",
    "        self.user_embeddings = pd.DataFrame([i for i in self.users['articles'].apply(lambda x: get_user_embedding(x, self.option), 1)])\n",
    "        self.user_embeddings.columns = ['topic_{}'.format(i) for i in range(N_features)]\n",
    "        self.user_embeddings['uid'] = self.users['uid'].values\n",
    "        self.user_embeddings = self.user_embeddings[['uid']+['topic_{}'.format(i) for i in range(25)]]"
   ]
  },
  {
   "cell_type": "code",
   "execution_count": 89,
   "metadata": {},
   "outputs": [],
   "source": [
    "class MLModel2(MLModel):\n",
    "    def __init__(self, users, target, option) -> None:\n",
    "        super().__init__(users, target, option)\n",
    "\n",
    "    def fit(self):\n",
    "        X = UserProcessor2(self.users, self.target, self.option)\n",
    "        X.fit()\n",
    "        X = X.transform()\n",
    "        X_train, self.X_test, y_train, self.y_test = train_test_split(X[['topic_{}'.format(i) for i in range(25)]], \n",
    "                                                    X['churn'], random_state=0)\n",
    "        self.logreg = LogisticRegression()\n",
    "        self.logreg.fit(X_train, y_train)"
   ]
  },
  {
   "cell_type": "code",
   "execution_count": 91,
   "metadata": {},
   "outputs": [],
   "source": [
    "ML_tfidf_median_version2 = MLModel2(users, target, 'median')\n",
    "ML_tfidf_median_version2.fit()\n",
    "ML_tfidf_median_preds_version2 = ML_tfidf_median_version2.transform()"
   ]
  },
  {
   "cell_type": "code",
   "execution_count": 92,
   "metadata": {},
   "outputs": [],
   "source": [
    "ML_tfidf_mean_version2 = MLModel2(users, target, 'mean')\n",
    "ML_tfidf_mean_version2.fit()\n",
    "ML_tfidf_mean_preds_version2 = ML_tfidf_mean_version2.transform()"
   ]
  },
  {
   "cell_type": "code",
   "execution_count": 93,
   "metadata": {},
   "outputs": [],
   "source": [
    "ML_tfidf_max_version2 = MLModel2(users, target, 'max')\n",
    "ML_tfidf_max_version2.fit()\n",
    "ML_tfidf_max_preds_version2 = ML_tfidf_max_version2.transform()"
   ]
  },
  {
   "cell_type": "code",
   "execution_count": 94,
   "metadata": {},
   "outputs": [
    {
     "name": "stderr",
     "output_type": "stream",
     "text": [
      "C:\\Users\\Полина\\AppData\\Local\\Temp\\ipykernel_14960\\1677765014.py:3: RuntimeWarning: invalid value encountered in divide\n",
      "  fscore = (2 * precision * recall) / (precision + recall)\n"
     ]
    },
    {
     "data": {
      "text/html": [
       "<div>\n",
       "<style scoped>\n",
       "    .dataframe tbody tr th:only-of-type {\n",
       "        vertical-align: middle;\n",
       "    }\n",
       "\n",
       "    .dataframe tbody tr th {\n",
       "        vertical-align: top;\n",
       "    }\n",
       "\n",
       "    .dataframe thead th {\n",
       "        text-align: right;\n",
       "    }\n",
       "</style>\n",
       "<table border=\"1\" class=\"dataframe\">\n",
       "  <thead>\n",
       "    <tr style=\"text-align: right;\">\n",
       "      <th></th>\n",
       "      <th>mean</th>\n",
       "      <th>median</th>\n",
       "      <th>max</th>\n",
       "      <th>tfidf_mean</th>\n",
       "      <th>tfidf_median</th>\n",
       "      <th>tfidf_max</th>\n",
       "      <th>tfidf_mean_version2</th>\n",
       "      <th>tfidf_median_version2</th>\n",
       "      <th>tfidf_max_version2</th>\n",
       "    </tr>\n",
       "  </thead>\n",
       "  <tbody>\n",
       "    <tr>\n",
       "      <th>roc_auc score</th>\n",
       "      <td>0.928784</td>\n",
       "      <td>0.959900</td>\n",
       "      <td>0.958958</td>\n",
       "      <td>0.901324</td>\n",
       "      <td>0.992921</td>\n",
       "      <td>0.873988</td>\n",
       "      <td>0.977222</td>\n",
       "      <td>0.992921</td>\n",
       "      <td>0.819506</td>\n",
       "    </tr>\n",
       "    <tr>\n",
       "      <th>F-score</th>\n",
       "      <td>0.628571</td>\n",
       "      <td>0.707865</td>\n",
       "      <td>0.720682</td>\n",
       "      <td>0.551630</td>\n",
       "      <td>0.900196</td>\n",
       "      <td>0.556000</td>\n",
       "      <td>0.813360</td>\n",
       "      <td>0.900196</td>\n",
       "      <td>0.454701</td>\n",
       "    </tr>\n",
       "    <tr>\n",
       "      <th>Precision</th>\n",
       "      <td>0.558730</td>\n",
       "      <td>0.653979</td>\n",
       "      <td>0.754464</td>\n",
       "      <td>0.413442</td>\n",
       "      <td>0.864662</td>\n",
       "      <td>0.545098</td>\n",
       "      <td>0.784091</td>\n",
       "      <td>0.864662</td>\n",
       "      <td>0.391176</td>\n",
       "    </tr>\n",
       "    <tr>\n",
       "      <th>Recall</th>\n",
       "      <td>0.718367</td>\n",
       "      <td>0.771429</td>\n",
       "      <td>0.689796</td>\n",
       "      <td>0.828571</td>\n",
       "      <td>0.938776</td>\n",
       "      <td>0.567347</td>\n",
       "      <td>0.844898</td>\n",
       "      <td>0.938776</td>\n",
       "      <td>0.542857</td>\n",
       "    </tr>\n",
       "  </tbody>\n",
       "</table>\n",
       "</div>"
      ],
      "text/plain": [
       "                   mean    median       max  tfidf_mean  tfidf_median  \\\n",
       "roc_auc score  0.928784  0.959900  0.958958    0.901324      0.992921   \n",
       "F-score        0.628571  0.707865  0.720682    0.551630      0.900196   \n",
       "Precision      0.558730  0.653979  0.754464    0.413442      0.864662   \n",
       "Recall         0.718367  0.771429  0.689796    0.828571      0.938776   \n",
       "\n",
       "               tfidf_max  tfidf_mean_version2  tfidf_median_version2  \\\n",
       "roc_auc score   0.873988             0.977222               0.992921   \n",
       "F-score         0.556000             0.813360               0.900196   \n",
       "Precision       0.545098             0.784091               0.864662   \n",
       "Recall          0.567347             0.844898               0.938776   \n",
       "\n",
       "               tfidf_max_version2  \n",
       "roc_auc score            0.819506  \n",
       "F-score                  0.454701  \n",
       "Precision                0.391176  \n",
       "Recall                   0.542857  "
      ]
     },
     "execution_count": 94,
     "metadata": {},
     "output_type": "execute_result"
    }
   ],
   "source": [
    "table = {'mean': accuracy_metrics(ML_mean.y_test, ML_mean_preds),\n",
    "        'median': accuracy_metrics(ML_median.y_test, ML_median_preds),\n",
    "        'max': accuracy_metrics(ML_max.y_test, ML_max_preds),\n",
    "        'tfidf_mean': accuracy_metrics(ML_tfidf_mean.y_test, ML_tfidf_mean_preds),\n",
    "        'tfidf_median': accuracy_metrics(ML_tfidf_median.y_test, ML_tfidf_median_preds),\n",
    "        'tfidf_max': accuracy_metrics(ML_tfidf_max.y_test, ML_tfidf_max_preds),\n",
    "        'tfidf_mean_version2': accuracy_metrics(ML_tfidf_mean_version2.y_test, ML_tfidf_mean_preds_version2),\n",
    "        'tfidf_median_version2': accuracy_metrics(ML_tfidf_median_version2.y_test, ML_tfidf_median_preds_version2),\n",
    "        'tfidf_max_version2': accuracy_metrics(ML_tfidf_max_version2.y_test, ML_tfidf_max_preds_version2)}\n",
    "\n",
    "table = pd.DataFrame(data=table, index=['roc_auc score', 'F-score', 'Precision', 'Recall'])\n",
    "table"
   ]
  },
  {
   "attachments": {},
   "cell_type": "markdown",
   "metadata": {},
   "source": [
    "Самым лучшим алгоритмо оказался tfidf второй версии и использованием медианы в расчетах user_embedding"
   ]
  }
 ],
 "metadata": {
  "kernelspec": {
   "display_name": "Python 3",
   "language": "python",
   "name": "python3"
  },
  "language_info": {
   "codemirror_mode": {
    "name": "ipython",
    "version": 3
   },
   "file_extension": ".py",
   "mimetype": "text/x-python",
   "name": "python",
   "nbconvert_exporter": "python",
   "pygments_lexer": "ipython3",
   "version": "3.10.9"
  },
  "orig_nbformat": 4,
  "vscode": {
   "interpreter": {
    "hash": "4d2235add567e9eaa00c374eb0b07ff21ee03c5ecf62d152eaaecc38661d978a"
   }
  }
 },
 "nbformat": 4,
 "nbformat_minor": 2
}
